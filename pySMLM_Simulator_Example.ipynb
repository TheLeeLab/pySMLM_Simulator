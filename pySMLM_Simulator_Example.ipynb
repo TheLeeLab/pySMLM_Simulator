{
 "cells": [
  {
   "cell_type": "code",
   "execution_count": null,
   "id": "639d889a-964f-48c6-96be-f3070b50a506",
   "metadata": {},
   "outputs": [],
   "source": [
    "import os\n",
    "from src import SimulationRoutines\n",
    "SRs = SimulationRoutines.Simulation_Routines()\n",
    "\n",
    "import sys\n",
    "sys.path.append(\"/home/jbeckwith/Documents/Dropbox (Cambridge University)/Chemistry/Lee/Code/Python/pyRASP/src\")\n",
    "import IOFunctions\n",
    "from IOFunctions import IO_Functions\n",
    "IO = IO_Functions()\n",
    "\n",
    "sys.path.append(\"/home/jbeckwith/Documents/Dropbox (Cambridge University)/Chemistry/Lee/Code/Python/CommonFunctions\")\n",
    "from PlottingFunctions import Plotter\n",
    "plots = Plotter()"
   ]
  },
  {
   "cell_type": "code",
   "execution_count": null,
   "id": "6b4a7580-6576-4888-8efb-5f83617ec31c",
   "metadata": {},
   "outputs": [],
   "source": [
    "'''This string defines where to find your binary mask image'''\n",
    "\n",
    "example_image_path = os.path.abspath('/home/jbeckwith/Downloads/logo.png')"
   ]
  },
  {
   "cell_type": "code",
   "execution_count": null,
   "id": "002aa96e-21ee-4979-9532-d544bd89e713",
   "metadata": {},
   "outputs": [],
   "source": [
    "'''This function takes the binary mask, generates a super-resolution image stack, and generates a gif of that stack and the \n",
    "buildup of a pointillistic image. Paramater meanings are as follows:\n",
    "\n",
    "example_image_path (string). Path where the function can find your image.\n",
    "\n",
    "n_photons (int). How many photons (on average) will be detected per localisation.\n",
    "\n",
    "n_frames (int). How many frames the image stack will have.\n",
    "\n",
    "labelling_density (float). How many pixels of the mask are sampled in the super-res. \n",
    "Randomly selects pixels, so 1 may not return every pixel filled in.\n",
    "\n",
    "pixel_size (float). Pixel size in arbitrary units. Set as 0.011 here, to show \"blurry\" diffraction limited image.\n",
    "\n",
    "imaging_wavelength (float). Wavelength imaged. This is then used, along with the NA, to calculate the PSF width.\n",
    "\n",
    "NA (float). Microscope NA. This is then used, along with the wavelength, to calculate the PSF width.\n",
    "\n",
    "lambda_sensor (float). Average of poisson random noise the sensor detects as background.\n",
    "\n",
    "mu_sensor (float). Average of gaussian random noise the sensor has as readout noise.\n",
    "\n",
    "sigma_sensor (float). Sigma of gaussian random noise the sensor has as readout noise.\n",
    "'''\n",
    "\n",
    "SRs.generate_tiffs_and_gifs(example_image_path, n_photons=4000, n_frames=2000, \n",
    "        labelling_density=5, pixel_size=0.05, imaging_wavelength=0.520, NA=1.49,\n",
    "        lambda_sensor=200, mu_sensor=200, sigma_sensor=20)"
   ]
  },
  {
   "cell_type": "code",
   "execution_count": null,
   "id": "71273476-faf8-4121-a0d2-e23be2cec474",
   "metadata": {},
   "outputs": [],
   "source": []
  }
 ],
 "metadata": {
  "kernelspec": {
   "display_name": "Python 3 (ipykernel)",
   "language": "python",
   "name": "python3"
  },
  "language_info": {
   "codemirror_mode": {
    "name": "ipython",
    "version": 3
   },
   "file_extension": ".py",
   "mimetype": "text/x-python",
   "name": "python",
   "nbconvert_exporter": "python",
   "pygments_lexer": "ipython3",
   "version": "3.10.12"
  }
 },
 "nbformat": 4,
 "nbformat_minor": 5
}
