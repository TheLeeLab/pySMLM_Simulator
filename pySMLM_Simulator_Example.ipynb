{
 "cells": [
  {
   "cell_type": "code",
   "execution_count": 7,
   "id": "639d889a-964f-48c6-96be-f3070b50a506",
   "metadata": {},
   "outputs": [],
   "source": [
    "import os\n",
    "import numpy as np\n",
    "import matplotlib.pyplot as plt\n",
    "from src import PSFFunctions\n",
    "PSF_F = PSFFunctions.PSF_Functions()\n",
    "from src import IOFunctions\n",
    "IO = IOFunctions.IO_Functions()"
   ]
  },
  {
   "cell_type": "code",
   "execution_count": 8,
   "id": "6b4a7580-6576-4888-8efb-5f83617ec31c",
   "metadata": {},
   "outputs": [],
   "source": [
    "image = IO.read_png('Example_Input_Image/Example_Image.png')\n",
    "x0, y0 = np.nonzero(image)\n",
    "indices = np.ravel_multi_index([x0, y0], image.shape, order='F')\n",
    "pixel_size = 0.11\n",
    "image_size = (1200, 1200)\n",
    "x = np.linspace(0, pixel_size*(image_size[0]-1), image_size[0])\n",
    "y = np.linspace(0, pixel_size*(image_size[1]-1), image_size[1])\n",
    "labelling_number = int(0.9*len(indices))\n",
    "ind_subset = np.random.choice(indices, labelling_number)"
   ]
  },
  {
   "cell_type": "code",
   "execution_count": null,
   "id": "002aa96e-21ee-4979-9532-d544bd89e713",
   "metadata": {},
   "outputs": [],
   "source": [
    "image_size = (image.shape[0], image.shape[1], 1000)\n",
    "lambda_sensor = 100\n",
    "mu_sensor = 100\n",
    "sigma_sensor = 10\n",
    "\n",
    "superres_image_stack, superres_cumsum_stack, dl_image, superres_image = PSF_F.generate_superres_stack(image.shape, indices, \n",
    "                                                n_frames=1000, n_photons=1000, labelling_density=1.5)"
   ]
  },
  {
   "cell_type": "code",
   "execution_count": null,
   "id": "120953d9-2772-4ca0-ad94-9db08ef51e12",
   "metadata": {},
   "outputs": [],
   "source": [
    "stackd = np.vstack([superres_image_stack, superres_cumsum_stack])"
   ]
  },
  {
   "cell_type": "code",
   "execution_count": null,
   "id": "84738ce4-9d5b-4b76-be6f-ee3419144e69",
   "metadata": {},
   "outputs": [],
   "source": [
    "plt.imshow(stackd[:, :, 0], cmap='gray'); plt.colorbar()"
   ]
  },
  {
   "cell_type": "code",
   "execution_count": null,
   "id": "7e148cf0-6430-417f-8f1b-3d59de7ec146",
   "metadata": {},
   "outputs": [],
   "source": [
    "IO.write_gif(stackd, 'test_stack_cumsum.gif')"
   ]
  },
  {
   "cell_type": "code",
   "execution_count": null,
   "id": "23e3de7b-ffa5-4e3d-a091-4fbb5f70bd25",
   "metadata": {},
   "outputs": [],
   "source": []
  }
 ],
 "metadata": {
  "kernelspec": {
   "display_name": "Python 3 (ipykernel)",
   "language": "python",
   "name": "python3"
  },
  "language_info": {
   "codemirror_mode": {
    "name": "ipython",
    "version": 3
   },
   "file_extension": ".py",
   "mimetype": "text/x-python",
   "name": "python",
   "nbconvert_exporter": "python",
   "pygments_lexer": "ipython3",
   "version": "3.10.12"
  }
 },
 "nbformat": 4,
 "nbformat_minor": 5
}
