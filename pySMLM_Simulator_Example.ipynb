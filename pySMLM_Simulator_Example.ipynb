{
 "cells": [
  {
   "cell_type": "code",
   "execution_count": 1,
   "id": "639d889a-964f-48c6-96be-f3070b50a506",
   "metadata": {},
   "outputs": [],
   "source": [
    "import os\n",
    "from src import SimulationRoutines\n",
    "SRs = SimulationRoutines.Simulation_Routines()\n"
   ]
  },
  {
   "cell_type": "code",
   "execution_count": 2,
   "id": "6b4a7580-6576-4888-8efb-5f83617ec31c",
   "metadata": {},
   "outputs": [],
   "source": [
    "example_image_path = os.path.abspath('/home/jbeckwith/Documents/Image/90Ho.png')"
   ]
  },
  {
   "cell_type": "code",
   "execution_count": 3,
   "id": "002aa96e-21ee-4979-9532-d544bd89e713",
   "metadata": {},
   "outputs": [],
   "source": [
    "SRs.generate_tiffs_and_gifs(example_image_path, n_photons=1000, n_frames=1000, \n",
    "        labelling_density=2, pixel_size=0.11, imaging_wavelength=0.520, NA=1.49,\n",
    "        lambda_sensor=100, mu_sensor=100, sigma_sensor=10)"
   ]
  }
 ],
 "metadata": {
  "kernelspec": {
   "display_name": "Python 3 (ipykernel)",
   "language": "python",
   "name": "python3"
  },
  "language_info": {
   "codemirror_mode": {
    "name": "ipython",
    "version": 3
   },
   "file_extension": ".py",
   "mimetype": "text/x-python",
   "name": "python",
   "nbconvert_exporter": "python",
   "pygments_lexer": "ipython3",
   "version": "3.10.12"
  }
 },
 "nbformat": 4,
 "nbformat_minor": 5
}
