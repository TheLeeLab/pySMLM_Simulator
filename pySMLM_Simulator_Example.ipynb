{
 "cells": [
  {
   "cell_type": "code",
   "execution_count": null,
   "id": "639d889a-964f-48c6-96be-f3070b50a506",
   "metadata": {},
   "outputs": [],
   "source": [
    "import os\n",
    "from src import SimulationRoutines\n",
    "SRs = SimulationRoutines.Simulation_Routines()\n",
    "\n",
    "from src import IOFunctions\n",
    "IO = IOFunctions.IO_Functions()\n",
    "\n",
    "from src import PSFFunctions\n",
    "PSF = PSFFunctions.PSF_Functions()"
   ]
  },
  {
   "cell_type": "code",
   "execution_count": null,
   "id": "6b4a7580-6576-4888-8efb-5f83617ec31c",
   "metadata": {},
   "outputs": [],
   "source": [
    "'''This string defines where to find your binary mask image'''\n",
    "\n",
    "example_image_path = os.path.abspath(r'Example_Input_Image/Example_Grid_Image.png')"
   ]
  },
  {
   "cell_type": "code",
   "execution_count": null,
   "id": "002aa96e-21ee-4979-9532-d544bd89e713",
   "metadata": {},
   "outputs": [],
   "source": [
    "'''This function takes the binary mask, generates a super-resolution image stack, and generates a gif of that stack and the \n",
    "buildup of a pointillistic image. Paramater meanings are as follows:\n",
    "\n",
    "example_image_path (string). Path where the function can find your image.\n",
    "\n",
    "n_photons (int). How many photons (on average) will be detected per localisation.\n",
    "\n",
    "n_frames (int). How many frames the image stack will have.\n",
    "\n",
    "labelling_density (float). How many pixels of the mask are sampled in the super-res. \n",
    "Randomly selects pixels, so 1 may not return every pixel filled in.\n",
    "\n",
    "pixel_size (float). Pixel size in arbitrary units. Set as 0.05 here, which corresponds to 50 nm\n",
    "(at the smaller end of what may physically be reasonable).\n",
    "\n",
    "imaging_wavelength (float). Wavelength imaged. This is then used, along with the NA, to calculate the PSF width.\n",
    "\n",
    "NA (float). Microscope NA. This is then used, along with the wavelength, to calculate the PSF width.\n",
    "\n",
    "lambda_sensor (float). Average of poisson random noise the sensor detects as background.\n",
    "\n",
    "mu_sensor (float). Average of gaussian random noise the sensor has as readout noise.\n",
    "\n",
    "sigma_sensor (float). Sigma of gaussian random noise the sensor has as readout noise.\n",
    "'''\n",
    "\n",
    "SRs.generate_tiffs_and_gifs(example_image_path, n_photons=4000, n_frames=1000, \n",
    "        labelling_density=2, pixel_size=0.05, imaging_wavelength=0.520, NA=1.49,\n",
    "        lambda_sensor=100, mu_sensor=100, sigma_sensor=10, invert=False)"
   ]
  },
  {
   "cell_type": "code",
   "execution_count": null,
   "id": "e15f798c-1fe5-4ad3-a43b-8459612288e6",
   "metadata": {},
   "outputs": [],
   "source": []
  }
 ],
 "metadata": {
  "kernelspec": {
   "display_name": "Python 3 (ipykernel)",
   "language": "python",
   "name": "python3"
  },
  "language_info": {
   "codemirror_mode": {
    "name": "ipython",
    "version": 3
   },
   "file_extension": ".py",
   "mimetype": "text/x-python",
   "name": "python",
   "nbconvert_exporter": "python",
   "pygments_lexer": "ipython3",
   "version": "3.10.12"
  }
 },
 "nbformat": 4,
 "nbformat_minor": 5
}
